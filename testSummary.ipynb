{
 "cells": [
  {
   "cell_type": "code",
   "execution_count": 2,
   "id": "df67f815-a01f-4341-afaa-559a15e39b4b",
   "metadata": {},
   "outputs": [
    {
     "ename": "NameError",
     "evalue": "name 'CLOUDFLARE_URL' is not defined",
     "output_type": "error",
     "traceback": [
      "\u001b[1;31m---------------------------------------------------------------------------\u001b[0m",
      "\u001b[1;31mNameError\u001b[0m                                 Traceback (most recent call last)",
      "Cell \u001b[1;32mIn[2], line 4\u001b[0m\n\u001b[0;32m      1\u001b[0m \u001b[38;5;28;01mimport\u001b[39;00m \u001b[38;5;21;01mrequests\u001b[39;00m\n\u001b[0;32m      2\u001b[0m \u001b[38;5;28;01mimport\u001b[39;00m \u001b[38;5;21;01mos\u001b[39;00m \n\u001b[1;32m----> 4\u001b[0m API_BASE_URL \u001b[38;5;241m=\u001b[39m os\u001b[38;5;241m.\u001b[39mgetenv(\u001b[43mCLOUDFLARE_URL\u001b[49m)\n\u001b[0;32m      6\u001b[0m headers \u001b[38;5;241m=\u001b[39m {\u001b[38;5;124m\"\u001b[39m\u001b[38;5;124mAuthorization\u001b[39m\u001b[38;5;124m\"\u001b[39m: os\u001b[38;5;241m.\u001b[39mgetenv(CLOUDFLARE_TOKEN)}\n\u001b[0;32m      8\u001b[0m \u001b[38;5;28;01mdef\u001b[39;00m \u001b[38;5;21mrun\u001b[39m(model, inputs):\n",
      "\u001b[1;31mNameError\u001b[0m: name 'CLOUDFLARE_URL' is not defined"
     ]
    }
   ],
   "source": [
    "import requests\n",
    "import os \n",
    "\n",
    "API_BASE_URL = os.getenv(CLOUDFLARE_URL)\n",
    "\n",
    "headers = {\"Authorization\": os.getenv(CLOUDFLARE_TOKEN)}\n",
    "\n",
    "def run(model, inputs):\n",
    "    input = { \"messages\": inputs }\n",
    "    response = requests.post(f\"{API_BASE_URL}{model}\", headers=headers, json=input)\n",
    "    return response.json()\n",
    "\n",
    "inputs = [\n",
    "    { \"role\": \"system\", \"content\": \"You are a friendly assistan that helps write stories\" },\n",
    "    { \"role\": \"user\", \"content\": \"Write a short story about a llama that goes on a journey to find an orange cloud \"}\n",
    "];\n",
    "output = run(\"@cf/meta/llama-3-8b-instruct\", inputs)\n",
    "print(output)\n"
   ]
  },
  {
   "cell_type": "code",
   "execution_count": 69,
   "id": "e62eeffc-7ad7-4b6d-b4e4-d44f8efbbc2c",
   "metadata": {},
   "outputs": [
    {
     "name": "stdout",
     "output_type": "stream",
     "text": [
      "Error: name 'client' is not defined\n"
     ]
    }
   ],
   "source": [
    "image_path = r'img/image.png'\n",
    "\n",
    "# Additional parameters\n",
    "temperature = 0.7\n",
    "prompt = 'Provide a detailed description of the following image:'\n",
    "raw = False\n",
    "max_tokens = 300\n",
    "\n",
    "\n",
    "with open(image_path, 'rb') as image_file:\n",
    "    image_data = image_file.read()\n",
    "    image_base64 = base64.b64encode(image_data)  # convert to bytes so the ai wont raise an error\n",
    "    \n",
    "input_object = {\n",
    "    \"image\": image_base64.decode('utf-8')          #decode so cloudflare model can handle the input\n",
    "    \"temperature\": temperature,      # everything past this is llm prompt stuff\n",
    "    \"prompt\": prompt,            \n",
    "    \"raw\": raw,                   \n",
    "    \"max_tokens\": max_tokens         \n",
    "}\n",
    "\n",
    "\n",
    "\n",
    "\n",
    "output = run(\"@cf/llava-hf/llava-1.5-7b-hf\", input_object)\n",
    "print(output)"
   ]
  },
  {
   "cell_type": "code",
   "execution_count": null,
   "id": "ce37ec92-2d8f-4bd5-ab6a-5b2f8a40241d",
   "metadata": {},
   "outputs": [],
   "source": []
  }
 ],
 "metadata": {
  "kernelspec": {
   "display_name": "Python 3 (ipykernel)",
   "language": "python",
   "name": "python3"
  },
  "language_info": {
   "codemirror_mode": {
    "name": "ipython",
    "version": 3
   },
   "file_extension": ".py",
   "mimetype": "text/x-python",
   "name": "python",
   "nbconvert_exporter": "python",
   "pygments_lexer": "ipython3",
   "version": "3.12.0"
  }
 },
 "nbformat": 4,
 "nbformat_minor": 5
}
